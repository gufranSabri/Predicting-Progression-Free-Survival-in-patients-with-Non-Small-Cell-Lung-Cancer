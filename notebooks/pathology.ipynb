{
 "cells": [
  {
   "cell_type": "code",
   "execution_count": 1,
   "id": "7349f6da-2b8e-4f55-9ebd-0e8f6cab8aa9",
   "metadata": {
    "tags": []
   },
   "outputs": [],
   "source": [
    "import pandas as pd\n",
    "import os\n",
    "\n",
    "from sklearn.preprocessing import StandardScaler\n",
    "\n",
    "from sklearn.model_selection import train_test_split\n",
    "from sklearn.svm import SVR\n",
    "from sklearn.metrics import mean_squared_error\n",
    "from scipy.stats import pearsonr\n",
    "from sklearn.model_selection import GridSearchCV\n",
    "from sklearn.naive_bayes import MultinomialNB\n",
    "from sklearn.neighbors import KNeighborsRegressor\n",
    "from sklearn.linear_model import LogisticRegression, LinearRegression\n",
    "from sklearn.svm import SVR\n",
    "from xgboost import XGBRegressor\n",
    "from sklearn.ensemble import AdaBoostRegressor, RandomForestRegressor\n",
    "from sklearn.tree import DecisionTreeRegressor\n",
    "from sklearn.ensemble import VotingRegressor, BaggingRegressor, GradientBoostingRegressor"
   ]
  },
  {
   "cell_type": "code",
   "execution_count": 2,
   "id": "c28eb0f9-e1bb-4a95-a724-5ca7332c296e",
   "metadata": {
    "tags": []
   },
   "outputs": [
    {
     "data": {
      "text/plain": [
       "['NEW_LUNG_glcm_Autocorrelation_v2_20x_stain1_PDL1.parquet',\n",
       " 'NEW_LUNG_glcm_Autocorrelation_v2_20x_stain1_PDL1_VALIDATION.parquet',\n",
       " 'LUNG_PATHOLOGY_PDL1_GLCM_V3_VALIDATION.parquet',\n",
       " 'LUNG_PATHOLOGY_PDL1_GLCM_V3.parquet']"
      ]
     },
     "execution_count": 2,
     "metadata": {},
     "output_type": "execute_result"
    }
   ],
   "source": [
    "BASE_DATA = '/Users/gufran/Developer/Projects/AI/PfsForNSCLC/pathology/pathology_features'\n",
    "os.listdir(BASE_DATA)"
   ]
  },
  {
   "cell_type": "code",
   "execution_count": 4,
   "id": "69fd583e-9e85-4f1d-8a03-a0e2074e9b96",
   "metadata": {
    "tags": []
   },
   "outputs": [
    {
     "data": {
      "text/plain": [
       "((105, 19), (52, 19))"
      ]
     },
     "execution_count": 4,
     "metadata": {},
     "output_type": "execute_result"
    }
   ],
   "source": [
    "df_st = pd.read_parquet(os.path.join(BASE_DATA, \"NEW_LUNG_glcm_Autocorrelation_v2_20x_stain1_PDL1.parquet\"), engine='pyarrow').reset_index()\n",
    "df_sv = pd.read_parquet(os.path.join(BASE_DATA, \"NEW_LUNG_glcm_Autocorrelation_v2_20x_stain1_PDL1_VALIDATION.parquet\"), engine='pyarrow').reset_index()\n",
    "df_st = df_st.rename(columns={'main_index': 'dmp_pt_id'})\n",
    "df_sv = df_sv.rename(columns={'main_index': 'pdl1_image_id'})\n",
    "\n",
    "df_st.shape, df_sv.shape"
   ]
  },
  {
   "cell_type": "code",
   "execution_count": 5,
   "id": "201b4c73-6c22-42bf-b90c-46a3b6a3fd58",
   "metadata": {
    "tags": []
   },
   "outputs": [],
   "source": [
    "def process_clinical(df, selected_columns=None, correlation_threshold = 0.2, drop_na = True):\n",
    "    object_float_columns = [\"pack_years\",\"halo_tumor_quality\"]\n",
    "    good_object_columns = [\"histo\",\"pdl1_tiss_site\"]\n",
    "    \n",
    "    remove_columns = list(df.select_dtypes(include=['object']).columns)\n",
    "    if \"dmp_pt_id\" in remove_columns: remove_columns.remove(\"dmp_pt_id\")\n",
    "    if \"pdl1_image_id\" in remove_columns: remove_columns.remove(\"pdl1_image_id\")\n",
    "    \n",
    "    remove_columns.append(\"record_id\")\n",
    "    remove_columns.append(\"pfs_censor\")\n",
    "    remove_columns.append(\"radiology_accession_number\")\n",
    "    remove_columns.append(\"did_acc\")\n",
    "    remove_columns.append(\"os_int\")\n",
    "    remove_columns.append(\"bor\")\n",
    "    remove_columns.append(\"sex\")\n",
    "    remove_columns.append(\"deid\")\n",
    "    remove_columns.append(\"label\")\n",
    "    remove_columns.append(\"clinical_pdl1_score\") #removing because of empty cells in test data\n",
    "    remove_columns.append(\"js_pdl1_score\") #removing because of empty cells in test data\n",
    "    \n",
    "    for c in object_float_columns:\n",
    "        remove_columns.remove(c)\n",
    "        \n",
    "    df = df.drop(columns=remove_columns)\n",
    "    \n",
    "    for c in object_float_columns:\n",
    "        df[c] = pd.to_numeric(df[c], errors='coerce').astype(float)\n",
    "    df[\"hist_adeno\"] = df[\"hist_adeno\"].astype(int)\n",
    "    \n",
    "    if selected_columns is None:\n",
    "        correlations = df.drop([\"dmp_pt_id\" if \"dmp_pt_id\" in df.columns else \"pdl1_image_id\"], axis=1).iloc[:, :-1].corrwith(df['pfs'])\n",
    "        selected_columns = correlations[(correlations >= correlation_threshold) | (correlations <= -correlation_threshold)].index\n",
    "        selected_columns = list(selected_columns)\n",
    "        if \"dmp_pt_id\" in df.columns: selected_columns.append(\"dmp_pt_id\")\n",
    "        if \"pdl1_image_id\" in df.columns: selected_columns.append(\"pdl1_image_id\")\n",
    "    \n",
    "    if \"dmp_pt_id\" not in df.columns: \n",
    "        selected_columns.remove(\"dmp_pt_id\")\n",
    "        selected_columns.append(\"pdl1_image_id\")\n",
    "        \n",
    "    for sc in selected_columns:\n",
    "        if sc in [\"dmp_pt_id\", \"pdl1_image_id\",\"pfs\"]: continue\n",
    "        print(f\"Correlation with {sc}: {df['pfs'].corr(df[sc])}\")\n",
    "    \n",
    "    df = df[selected_columns]\n",
    "    if drop_na: df = df.dropna().reset_index(drop=True)\n",
    "    \n",
    "    return df, selected_columns"
   ]
  },
  {
   "cell_type": "code",
   "execution_count": 15,
   "id": "5e8d44f3-228f-4a65-9a2e-e8754dd1e508",
   "metadata": {
    "tags": []
   },
   "outputs": [
    {
     "name": "stdout",
     "output_type": "stream",
     "text": [
      "Correlation with albumin: 0.26071203044553243\n",
      "Correlation with dnlr: -0.11717087983081641\n",
      "Correlation with ecog: -0.1665222793734818\n",
      "Correlation with albumin: 0.26071203044553243\n",
      "Correlation with dnlr: -0.11717087983081641\n",
      "Correlation with ecog: -0.1665222793734818\n"
     ]
    }
   ],
   "source": [
    "df_clinical = pd.read_csv('/Users/gufran/Developer/Projects/AI/PfsForNSCLC/clinical_data/clinical_data.csv')\n",
    "df_clinical_tr = df_clinical.drop([\"pdl1_image_id\"], axis=1)\n",
    "df_clinical_te = df_clinical.drop([\"dmp_pt_id\"], axis=1)\n",
    "\n",
    "df_clinical_tr, selected_columns = process_clinical(df_clinical_tr, correlation_threshold = 0.11)\n",
    "df_clinical_te, _ = process_clinical(df_clinical_te, correlation_threshold = 0.11, selected_columns=selected_columns)"
   ]
  },
  {
   "cell_type": "code",
   "execution_count": 6,
   "id": "1cd6a1a4-9da9-40cb-821b-d4321fcac623",
   "metadata": {
    "tags": []
   },
   "outputs": [
    {
     "data": {
      "text/plain": [
       "((105, 23), (50, 23))"
      ]
     },
     "execution_count": 6,
     "metadata": {},
     "output_type": "execute_result"
    }
   ],
   "source": [
    "df_st = pd.merge(df_st, df_clinical_tr, on='dmp_pt_id', how='inner')\n",
    "df_sv = pd.merge(df_sv, df_clinical_te, on='pdl1_image_id', how='inner')\n",
    "\n",
    "df_st.shape, df_sv.shape"
   ]
  },
  {
   "cell_type": "markdown",
   "id": "a99bfa1b-8460-4348-b988-352195b88da0",
   "metadata": {},
   "source": [
    "### Take columns with significant correlation only"
   ]
  },
  {
   "cell_type": "code",
   "execution_count": 7,
   "id": "5d85ab1b-4d33-4e36-8e69-d0e8d9803483",
   "metadata": {
    "tags": []
   },
   "outputs": [
    {
     "name": "stdout",
     "output_type": "stream",
     "text": [
      "Correlation with albumin: 0.2677753499725636\n",
      "Correlation with dnlr: -0.09873474547928056\n",
      "Correlation with ecog: -0.21379495017420738\n"
     ]
    }
   ],
   "source": [
    "for sc in selected_columns:\n",
    "    if sc in [\"dmp_pt_id\", \"pfs\",\"pdl1_image_id\"]: continue\n",
    "    print(f\"Correlation with {sc}: {df_st['pfs'].corr(df_st[sc])}\")"
   ]
  },
  {
   "cell_type": "code",
   "execution_count": 8,
   "id": "1c70e36f-8b11-46ad-bdcb-1c0419b5ad1e",
   "metadata": {
    "tags": []
   },
   "outputs": [
    {
     "data": {
      "text/plain": [
       "['pixel_original_glcm_Autocorrelation_scale_None_channel_1_lognorm_fit_p0',\n",
       " 'pixel_original_glcm_None_scale_None_channel_1_skewness',\n",
       " 'pixel_original_glcm_None_scale_None_channel_1_lognorm_fit_p0',\n",
       " 'albumin',\n",
       " 'pfs',\n",
       " 'ecog']"
      ]
     },
     "execution_count": 8,
     "metadata": {},
     "output_type": "execute_result"
    }
   ],
   "source": [
    "correlation_threshold = 0.2\n",
    "correlations = df_st.drop(\"dmp_pt_id\", axis=1).corrwith(df_st['pfs'])\n",
    "selected_columns = correlations[(correlations >= correlation_threshold) | (correlations <= -correlation_threshold)].index\n",
    "\n",
    "selected_columns = list(selected_columns)\n",
    "selected_columns"
   ]
  },
  {
   "cell_type": "markdown",
   "id": "3815a432-dcb9-43dd-b71b-bd0d4aa1b7e5",
   "metadata": {},
   "source": [
    "### These are the selected features"
   ]
  },
  {
   "cell_type": "code",
   "execution_count": 9,
   "id": "b6cbc7f8-9d44-4e79-9e12-858873c51f27",
   "metadata": {
    "tags": []
   },
   "outputs": [
    {
     "name": "stdout",
     "output_type": "stream",
     "text": [
      "Correlation with pixel_original_glcm_Autocorrelation_scale_None_channel_1_lognorm_fit_p0: 0.22536458161216197\n",
      "Correlation with pixel_original_glcm_None_scale_None_channel_1_skewness: -0.21465594696499923\n",
      "Correlation with pixel_original_glcm_None_scale_None_channel_1_lognorm_fit_p0: 0.21478831109583116\n",
      "Correlation with albumin: 0.2677753499725636\n",
      "Correlation with ecog: -0.21379495017420738\n"
     ]
    }
   ],
   "source": [
    "for sc in selected_columns:\n",
    "    if sc in [\"dmp_pt_id\", \"pfs\"]: continue\n",
    "    print(f\"Correlation with {sc}: {df_st['pfs'].corr(df_st[sc])}\")"
   ]
  },
  {
   "cell_type": "code",
   "execution_count": 10,
   "id": "c75f7fd0-1454-492b-8003-c019c9b736c5",
   "metadata": {
    "tags": []
   },
   "outputs": [],
   "source": [
    "df_st = df_st[selected_columns + [\"dmp_pt_id\"]]\n",
    "df_st = df_st.dropna().reset_index(drop=True)\n",
    "\n",
    "df_sv = df_sv[selected_columns + [\"pdl1_image_id\"]]\n",
    "df_sv = df_sv.dropna().reset_index(drop=True)"
   ]
  },
  {
   "cell_type": "code",
   "execution_count": 11,
   "id": "71e8981b-53b1-4c6d-a236-16597327b828",
   "metadata": {
    "tags": []
   },
   "outputs": [],
   "source": [
    "X_train, y_train = df_st.drop([\"pfs\", \"dmp_pt_id\"], axis=1), df_st[\"pfs\"]\n",
    "X_test, y_test = df_sv.drop([\"pfs\", \"pdl1_image_id\"], axis=1), df_sv[\"pfs\"]"
   ]
  },
  {
   "cell_type": "code",
   "execution_count": 12,
   "id": "4f18efae-43ac-4856-bcdf-ac88541cad63",
   "metadata": {
    "tags": []
   },
   "outputs": [
    {
     "data": {
      "text/plain": [
       "((105, 5), (50, 5))"
      ]
     },
     "execution_count": 12,
     "metadata": {},
     "output_type": "execute_result"
    }
   ],
   "source": [
    "X_train.shape, X_test.shape"
   ]
  },
  {
   "cell_type": "markdown",
   "id": "479cd62e-f932-4f14-90fe-4a30219d612c",
   "metadata": {},
   "source": [
    "### Modeling"
   ]
  },
  {
   "cell_type": "code",
   "execution_count": 13,
   "id": "571fcf9e-848c-46e1-a745-8d4e0a4de722",
   "metadata": {
    "tags": []
   },
   "outputs": [],
   "source": [
    "# classifiers_reg = {\n",
    "#     'SVM': {\n",
    "#         'name': 'Support Vector Machine',\n",
    "#         'classifier': SVR(),\n",
    "#         'param_grid': {'C': [0.1, 1.0, 10.0], 'kernel': ['linear', 'rbf']}\n",
    "#     },\n",
    "#     'XGBoost': {\n",
    "#         'name': 'XGBoost',\n",
    "#         'classifier': XGBRegressor(),\n",
    "#         'param_grid': {'n_estimators': [50, 100, 200], 'max_depth': [3, 4, 5]}\n",
    "#     },\n",
    "#     'AdaBoost': {\n",
    "#         'name': 'AdaBoost',\n",
    "#         'classifier': AdaBoostRegressor(),\n",
    "#         'param_grid': {'n_estimators': [50, 100, 200], 'learning_rate': [0.1, 0.5, 1.0]}\n",
    "#     },\n",
    "#     'RandomForest': {\n",
    "#         'name': 'Random Forest',\n",
    "#         'classifier': RandomForestRegressor(),\n",
    "#         'param_grid': {'n_estimators': [50, 100, 200], 'max_depth': [None, 10, 20]}\n",
    "#     },\n",
    "#     'DecisionTree': {\n",
    "#         'name': 'Decision Tree',\n",
    "#         'classifier': DecisionTreeRegressor(),\n",
    "#         'param_grid': {'max_depth': [None, 10, 20]}\n",
    "#     }\n",
    "# }\n",
    "\n",
    "# classifiers_reg = {\n",
    "#     'SVM': {\n",
    "#         'name': 'Support Vector Machine',\n",
    "#         'classifier': SVR(),\n",
    "#         'param_grid': {'C': [0.1, 1.0, 5.0, 10.0], 'kernel': ['linear', 'rbf']}\n",
    "#     },\n",
    "#     'XGBoost': {\n",
    "#         'name': 'XGBoost',\n",
    "#         'classifier': XGBRegressor(),\n",
    "#         'param_grid': {'n_estimators': [50, 100, 200], 'max_depth': [3, 4, 5]}\n",
    "#     },\n",
    "#     'AdaBoost': {\n",
    "#         'name': 'AdaBoost',\n",
    "#         'classifier': AdaBoostRegressor(),\n",
    "#         'param_grid': {'n_estimators': [50, 100, 200], 'learning_rate': [0.1, 0.5, 1.0]}\n",
    "#     },\n",
    "#     'RandomForest': {\n",
    "#         'name': 'Random Forest',\n",
    "#         'classifier': RandomForestRegressor(),\n",
    "#         'param_grid': {'n_estimators': [50, 100, 200], 'max_depth': [None, 10, 20]}\n",
    "#     },\n",
    "#     'DecisionTree': {\n",
    "#         'name': 'Decision Tree',\n",
    "#         'classifier': DecisionTreeRegressor(),\n",
    "#         'param_grid': {'max_depth': [None, 10, 20]}\n",
    "#     }\n",
    "# }\n",
    "\n",
    "from sklearn.svm import SVR\n",
    "from xgboost import XGBRegressor\n",
    "from sklearn.ensemble import AdaBoostRegressor, RandomForestRegressor, GradientBoostingRegressor\n",
    "from sklearn.tree import DecisionTreeRegressor\n",
    "from sklearn.linear_model import LinearRegression, Ridge, Lasso, ElasticNet, HuberRegressor, SGDRegressor\n",
    "from sklearn.neighbors import KNeighborsRegressor\n",
    "\n",
    "classifiers_reg = {\n",
    "    'Linear Regression': {\n",
    "        'name': 'Linear Regression',\n",
    "        'classifier': LinearRegression(),\n",
    "        'param_grid': {}\n",
    "    },\n",
    "    'Ridge Regression': {\n",
    "        'name': 'Ridge Regression',\n",
    "        'classifier': Ridge(),\n",
    "        'param_grid': {'alpha': [0.01, 0.1, 1.0, 10.0]}\n",
    "    },\n",
    "    'Lasso Regression': {\n",
    "        'name': 'Lasso Regression',\n",
    "        'classifier': Lasso(),\n",
    "        'param_grid': {'alpha': [0.01, 0.1, 1.0, 10.0]}\n",
    "    },\n",
    "    'ElasticNet': {\n",
    "        'name': 'ElasticNet',\n",
    "        'classifier': ElasticNet(),\n",
    "        'param_grid': {'alpha': [0.01, 0.1, 1.0, 10.0], 'l1_ratio': [0.1, 0.5, 0.9]}\n",
    "    },\n",
    "    'K-Nearest Neighbors': {\n",
    "        'name': 'K-Nearest Neighbors',\n",
    "        'classifier': KNeighborsRegressor(),\n",
    "        'param_grid': {'n_neighbors': [3, 5, 10], 'weights': ['uniform', 'distance']}\n",
    "    },\n",
    "    'Gradient Boosting': {\n",
    "        'name': 'Gradient Boosting',\n",
    "        'classifier': GradientBoostingRegressor(),\n",
    "        'param_grid': {'n_estimators': [50, 100, 200], 'learning_rate': [0.01, 0.1, 0.5], 'max_depth': [3, 4, 5]}\n",
    "    },\n",
    "    'Huber Regressor': {\n",
    "        'name': 'Huber Regressor',\n",
    "        'classifier': HuberRegressor(),\n",
    "        'param_grid': {'epsilon': [1.1, 1.2, 1.3], 'alpha': [0.0001, 0.001, 0.01]}\n",
    "    },\n",
    "    'SGD Regressor': {\n",
    "        'name': 'Stochastic Gradient Descent Regressor',\n",
    "        'classifier': SGDRegressor(),\n",
    "        'param_grid': {'alpha': [0.0001, 0.001, 0.01], 'penalty': ['l1', 'l2', 'elasticnet']}\n",
    "    },\n",
    "    'SVM': {\n",
    "        'name': 'Support Vector Machine',\n",
    "        'classifier': SVR(),\n",
    "        'param_grid': {'C': [0.1, 1.0, 5.0, 10.0], 'kernel': ['linear', 'rbf']}\n",
    "    },\n",
    "    'XGBoost': {\n",
    "        'name': 'XGBoost',\n",
    "        'classifier': XGBRegressor(),\n",
    "        'param_grid': {'n_estimators': [50, 100, 200], 'max_depth': [3, 4, 5]}\n",
    "    },\n",
    "    'AdaBoost': {\n",
    "        'name': 'AdaBoost',\n",
    "        'classifier': AdaBoostRegressor(),\n",
    "        'param_grid': {'n_estimators': [50, 100, 200], 'learning_rate': [0.1, 0.5, 1.0]}\n",
    "    },\n",
    "    'RandomForest': {\n",
    "        'name': 'Random Forest',\n",
    "        'classifier': RandomForestRegressor(),\n",
    "        'param_grid': {'n_estimators': [50, 100, 200], 'max_depth': [None, 10, 20]}\n",
    "    },\n",
    "    'DecisionTree': {\n",
    "        'name': 'Decision Tree',\n",
    "        'classifier': DecisionTreeRegressor(),\n",
    "        'param_grid': {'max_depth': [None, 10, 20]}\n",
    "    }\n",
    "}\n"
   ]
  },
  {
   "cell_type": "code",
   "execution_count": 14,
   "id": "c2e4ef01-4838-4336-985c-a665ce938fe0",
   "metadata": {
    "tags": []
   },
   "outputs": [
    {
     "name": "stdout",
     "output_type": "stream",
     "text": [
      "Performing GridSearchCV for Linear Regression...\n",
      "Performing GridSearchCV for Ridge Regression...\n",
      "Performing GridSearchCV for Lasso Regression...\n",
      "Performing GridSearchCV for ElasticNet...\n",
      "Performing GridSearchCV for K-Nearest Neighbors...\n",
      "Performing GridSearchCV for Gradient Boosting...\n",
      "Performing GridSearchCV for Huber Regressor...\n",
      "Performing GridSearchCV for Stochastic Gradient Descent Regressor...\n",
      "Performing GridSearchCV for Support Vector Machine...\n",
      "Performing GridSearchCV for XGBoost...\n",
      "Performing GridSearchCV for AdaBoost...\n",
      "Performing GridSearchCV for Random Forest...\n",
      "Performing GridSearchCV for Decision Tree...\n",
      "\n",
      "Evaluating Linear Regression on test data...\n",
      "Mean Squared Error on Test Data: 55.1353\n",
      "Pearson Correlation Coefficient on Test Data: 0.4188\n",
      "\n",
      "Evaluating Ridge Regression on test data...\n",
      "Mean Squared Error on Test Data: 44.8238\n",
      "Pearson Correlation Coefficient on Test Data: 0.4224\n",
      "\n",
      "Evaluating Lasso Regression on test data...\n",
      "Mean Squared Error on Test Data: 54.1430\n",
      "Pearson Correlation Coefficient on Test Data: 0.4182\n",
      "\n",
      "Evaluating ElasticNet on test data...\n",
      "Mean Squared Error on Test Data: 34.7982\n",
      "Pearson Correlation Coefficient on Test Data: 0.4225\n",
      "\n",
      "Evaluating K-Nearest Neighbors on test data...\n",
      "Mean Squared Error on Test Data: 34.4727\n",
      "Pearson Correlation Coefficient on Test Data: 0.4636\n",
      "\n",
      "Evaluating Gradient Boosting on test data...\n",
      "Mean Squared Error on Test Data: 40.7812\n",
      "Pearson Correlation Coefficient on Test Data: 0.3806\n",
      "\n",
      "Evaluating Huber Regressor on test data...\n",
      "Mean Squared Error on Test Data: 41.9530\n",
      "Pearson Correlation Coefficient on Test Data: 0.4220\n",
      "\n",
      "Evaluating SGD Regressor on test data...\n",
      "Mean Squared Error on Test Data: 35.4671\n",
      "Pearson Correlation Coefficient on Test Data: 0.4108\n",
      "\n",
      "Evaluating SVM on test data...\n",
      "Mean Squared Error on Test Data: 44.8589\n",
      "Pearson Correlation Coefficient on Test Data: 0.4166\n",
      "\n",
      "Evaluating XGBoost on test data...\n",
      "Mean Squared Error on Test Data: 41.7749\n",
      "Pearson Correlation Coefficient on Test Data: 0.3636\n",
      "\n",
      "Evaluating AdaBoost on test data...\n",
      "Mean Squared Error on Test Data: 40.3347\n",
      "Pearson Correlation Coefficient on Test Data: 0.3009\n",
      "\n",
      "Evaluating RandomForest on test data...\n",
      "Mean Squared Error on Test Data: 35.9726\n",
      "Pearson Correlation Coefficient on Test Data: 0.4303\n",
      "\n",
      "Evaluating DecisionTree on test data...\n",
      "Mean Squared Error on Test Data: 57.0614\n",
      "Pearson Correlation Coefficient on Test Data: 0.2217\n",
      "\n"
     ]
    }
   ],
   "source": [
    "from sklearn.metrics import mean_squared_error\n",
    "from scipy.stats import pearsonr\n",
    "\n",
    "best_models = {}\n",
    "\n",
    "for clf_name, clf_info in classifiers_reg.items():\n",
    "    print(f\"Performing GridSearchCV for {clf_info['name']}...\")\n",
    "    \n",
    "    clf = clf_info['classifier']\n",
    "    param_grid = clf_info['param_grid']\n",
    "    \n",
    "    grid_search = GridSearchCV(clf, param_grid, cv=5, scoring='neg_mean_squared_error', n_jobs=-1)\n",
    "    grid_search.fit(X_train, y_train)\n",
    "\n",
    "    best_models[clf_name] = grid_search.best_estimator_\n",
    "\n",
    "print()\n",
    "\n",
    "for clf_name, best_model in best_models.items():\n",
    "    print(f\"Evaluating {clf_name} on test data...\")\n",
    "    \n",
    "    y_pred = best_model.predict(X_test)\n",
    "\n",
    "    mse = mean_squared_error(y_test, y_pred)\n",
    "    pearson_coefficient, _ = pearsonr(y_test, y_pred)\n",
    "    \n",
    "    print(f\"Mean Squared Error on Test Data: {mse:.4f}\")\n",
    "    print(f\"Pearson Correlation Coefficient on Test Data: {pearson_coefficient:.4f}\\n\")"
   ]
  },
  {
   "cell_type": "code",
   "execution_count": 18,
   "id": "d1a218bc-cb25-48a2-8801-3d1042514189",
   "metadata": {
    "tags": []
   },
   "outputs": [
    {
     "name": "stdout",
     "output_type": "stream",
     "text": [
      "Mean Squared Error on Test Data (Voting): 35.3262\n",
      "Pearson Correlation Coefficient on Test Data (Voting): 0.4615\n",
      "\n"
     ]
    }
   ],
   "source": [
    "from sklearn.ensemble import VotingRegressor\n",
    "\n",
    "voting_reg = VotingRegressor(estimators=list(best_models.items()))\n",
    "voting_reg.fit(X_train, y_train)\n",
    "\n",
    "y_pred_voting = voting_reg.predict(X_test)\n",
    "mse_voting = mean_squared_error(y_test, y_pred_voting)\n",
    "pearson_coefficient_voting, _ = pearsonr(y_test, y_pred_voting)\n",
    "\n",
    "print(f\"Mean Squared Error on Test Data (Voting): {mse_voting:.4f}\")\n",
    "print(f\"Pearson Correlation Coefficient on Test Data (Voting): {pearson_coefficient_voting:.4f}\\n\")"
   ]
  },
  {
   "cell_type": "markdown",
   "id": "31211baf-17d3-4dec-9061-ca3ae65734a1",
   "metadata": {},
   "source": [
    "### Best score for `clinical + pathology` features"
   ]
  },
  {
   "cell_type": "code",
   "execution_count": 26,
   "id": "63ba4271-2ddc-47b8-b0ec-a94c95685093",
   "metadata": {
    "tags": []
   },
   "outputs": [
    {
     "name": "stdout",
     "output_type": "stream",
     "text": [
      "Mean Squared Error on Test Data (Bagging): 32.8512\n",
      "Pearson Correlation Coefficient on Test Data (Bagging): 0.4950\n",
      "\n"
     ]
    },
    {
     "name": "stderr",
     "output_type": "stream",
     "text": [
      "/Users/gufran/anaconda3/lib/python3.11/site-packages/sklearn/ensemble/_base.py:156: FutureWarning: `base_estimator` was renamed to `estimator` in version 1.2 and will be removed in 1.4.\n",
      "  warnings.warn(\n"
     ]
    }
   ],
   "source": [
    "from sklearn.ensemble import BaggingRegressor\n",
    "\n",
    "bagging_reg = BaggingRegressor(base_estimator=KNeighborsRegressor(), n_estimators=10, random_state=42)  # You can customize parameters\n",
    "bagging_reg.fit(X_train, y_train)\n",
    "\n",
    "y_pred_bagging = bagging_reg.predict(X_test)\n",
    "mse_bagging = mean_squared_error(y_test, y_pred_bagging)\n",
    "pearson_coefficient_bagging, _ = pearsonr(y_test, y_pred_bagging)\n",
    "\n",
    "print(f\"Mean Squared Error on Test Data (Bagging): {mse_bagging:.4f}\")\n",
    "print(f\"Pearson Correlation Coefficient on Test Data (Bagging): {pearson_coefficient_bagging:.4f}\\n\")"
   ]
  },
  {
   "cell_type": "code",
   "execution_count": 17,
   "id": "59a45717-c396-46e7-ba93-706b747301ad",
   "metadata": {},
   "outputs": [],
   "source": [
    "# df_st.to_csv(\"/Users/gufran/Desktop/PfsPredictionLungCancer/data/train_path_clin_t2.csv\", index=False)\n",
    "# df_sv.to_csv(\"/Users/gufran/Desktop/PfsPredictionLungCancer/data/val_path_clin_t2.csv\", index=False)"
   ]
  },
  {
   "cell_type": "code",
   "execution_count": null,
   "id": "07d1099c-9100-49a7-a7e1-02121e203293",
   "metadata": {},
   "outputs": [],
   "source": []
  }
 ],
 "metadata": {
  "kernelspec": {
   "display_name": "Python 3 (ipykernel)",
   "language": "python",
   "name": "python3"
  },
  "language_info": {
   "codemirror_mode": {
    "name": "ipython",
    "version": 3
   },
   "file_extension": ".py",
   "mimetype": "text/x-python",
   "name": "python",
   "nbconvert_exporter": "python",
   "pygments_lexer": "ipython3",
   "version": "3.11.5"
  }
 },
 "nbformat": 4,
 "nbformat_minor": 5
}
